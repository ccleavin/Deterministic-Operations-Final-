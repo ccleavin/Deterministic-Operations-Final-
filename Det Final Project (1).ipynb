{
 "cells": [
  {
   "cell_type": "code",
   "execution_count": 16,
   "id": "c705ce03-df7d-49cc-b933-65d947855eda",
   "metadata": {},
   "outputs": [
    {
     "name": "stdout",
     "output_type": "stream",
     "text": [
      "Set parameter WLSAccessID\n",
      "Set parameter WLSSecret\n",
      "Set parameter LicenseID to value 2412244\n",
      "Academic license 2412244 - for non-commercial use only - registered to cc___@ttu.edu\n",
      "Total Population:  1839106\n",
      "Upper Boundary:  924151\n",
      "Lower Boundary:  914955\n"
     ]
    }
   ],
   "source": [
    "#Import Packages\n",
    "import gurobipy as gp\n",
    "from gurobipy import GRB\n",
    "import pandas as pd\n",
    "import math\n",
    "import networkx as nx\n",
    "\n",
    "#\n",
    "params = {\n",
    "\"WLSACCESSID\": '3',\n",
    "\"WLSSECRET\": '2bd3f',\n",
    "\"LICENSEID\": 24,\n",
    "}\n",
    "env = gp.Env(params=params)\n",
    "\n",
    "#Import data\n",
    "pop = pd.read_csv('ID.population')\n",
    "\n",
    "#Separte edge numbers by spaces\n",
    "edges = pd.read_csv('ID.dimacs', sep=' ')\n",
    "edges = edges.drop('p',  axis = 1)\n",
    "\n",
    "#Initial networkx Graph\n",
    "G = nx.Graph()\n",
    "#Remove last row that is not important\n",
    "edges = edges.iloc[:-1]\n",
    "#Ensure each edge is a number\n",
    "edges = edges.apply(pd.to_numeric, errors = 'coerce')\n",
    "#Make edges a list of tuples\n",
    "edges = list(edges.itertuples(index=False, name=None))\n",
    "#Add edges to graph\n",
    "G.add_edges_from(edges)\n",
    "\n",
    "#Find Total Population\n",
    "total = pop['total pop = 1829106'].sum()\n",
    "print(\"Total Population: \", total)\n",
    "\n",
    "#Create Tolerances for population disparity assuming a tolerance of 1% \n",
    "U = math.ceil(total/2*1.005)\n",
    "L = math.floor(total/2*0.995)\n",
    "print(\"Upper Boundary: \" ,U)\n",
    "print(\"Lower Boundary: \", L)"
   ]
  },
  {
   "cell_type": "code",
   "execution_count": 17,
   "id": "ba605ff9",
   "metadata": {},
   "outputs": [
    {
     "name": "stdout",
     "output_type": "stream",
     "text": [
      "Gurobi Optimizer version 11.0.0 build v11.0.0rc2 (win64 - Windows 11.0 (22621.2))\n",
      "\n",
      "CPU model: AMD Ryzen 9 6900HS with Radeon Graphics, instruction set [SSE2|AVX|AVX2]\n",
      "Thread count: 8 physical cores, 16 logical processors, using up to 16 threads\n",
      "\n",
      "Academic license 2412244 - for non-commercial use only - registered to cc___@ttu.edu\n",
      "Optimize a model with 1984 rows, 2024 columns and 2608 nonzeros\n",
      "Model fingerprint: 0x7df69647\n",
      "Variable types: 0 continuous, 2024 integer (2024 binary)\n",
      "Coefficient statistics:\n",
      "  Matrix range     [1e+00, 5e+05]\n",
      "  Objective range  [1e+00, 1e+00]\n",
      "  Bounds range     [1e+00, 1e+00]\n",
      "  RHS range        [1e+00, 9e+05]\n",
      "Found heuristic solution: objective 57.0000000\n",
      "Presolve removed 1778 rows and 1878 columns\n",
      "Presolve time: 0.00s\n",
      "Presolved: 206 rows, 146 columns, 700 nonzeros\n",
      "Variable types: 0 continuous, 146 integer (146 binary)\n",
      "\n",
      "Root relaxation: objective 0.000000e+00, 78 iterations, 0.00 seconds (0.00 work units)\n",
      "\n",
      "    Nodes    |    Current Node    |     Objective Bounds      |     Work\n",
      " Expl Unexpl |  Obj  Depth IntInf | Incumbent    BestBd   Gap | It/Node Time\n",
      "\n",
      "     0     0    0.00000    0   44   57.00000    0.00000   100%     -    0s\n",
      "H    0     0                      38.0000000    0.00000   100%     -    0s\n",
      "H    0     0                      27.0000000    0.00000   100%     -    0s\n",
      "     0     0    3.49780    0   45   27.00000    3.49780  87.0%     -    0s\n",
      "H    0     0                      16.0000000    3.57640  77.6%     -    0s\n",
      "     0     0    5.38380    0   47   16.00000    5.38380  66.4%     -    0s\n",
      "H    0     0                      12.0000000    5.66809  52.8%     -    0s\n",
      "     0     0    5.96893    0   47   12.00000    5.96893  50.3%     -    0s\n",
      "     0     0    6.00000    0   47   12.00000    6.00000  50.0%     -    0s\n",
      "H    0     0                      11.0000000    6.92989  37.0%     -    0s\n",
      "     0     0    6.92989    0   47   11.00000    6.92989  37.0%     -    0s\n",
      "     0     2    6.92989    0   47   11.00000    6.92989  37.0%     -    0s\n",
      "\n",
      "Cutting planes:\n",
      "  Gomory: 3\n",
      "  Cover: 1\n",
      "\n",
      "Explored 81 nodes (2488 simplex iterations) in 0.18 seconds (0.06 work units)\n",
      "Thread count was 16 (of 16 available processors)\n",
      "\n",
      "Solution count 6: 11 12 16 ... 57\n",
      "\n",
      "Optimal solution found (tolerance 1.00e-04)\n",
      "Best objective 1.100000000000e+01, best bound 1.100000000000e+01, gap 0.0000%\n"
     ]
    }
   ],
   "source": [
    "\n",
    "#Create the range of counties c\n",
    "c = range(0,44)\n",
    "k = 44\n",
    "\n",
    "#Create the range of districts j\n",
    "j = range(0,2)\n",
    "n = 2\n",
    "\n",
    "#Create Model\n",
    "m = gp.Model(env=env)\n",
    "\n",
    "#Add Variables\n",
    "#Xcj = 1 if county c is assigned to county j and 0 otherwise\n",
    "x = m.addVars(c, j, vtype = GRB.BINARY)\n",
    "\n",
    "#Eij is 1 if the edge is cut and 0 otherwise\n",
    "e = m.addVars(c, c, vtype = GRB.BINARY)\n",
    "\n",
    "#Set Objective Function\n",
    "#Minimize the amount of cut edges\n",
    "m.setObjective(gp.quicksum(e[i, j] for (i, j) in G.edges()), GRB.MINIMIZE)\n",
    "\n",
    "#Each county can only be assigned one district\n",
    "m.addConstrs(gp.quicksum(x[u,v] for v in range(n)) == 1 for u in range(k))\n",
    "\n",
    "#Each Districts population should be between U and L\n",
    "m.addConstrs(gp.quicksum(x[u,v]*pop['total pop = 1829106'][u] for u in range(k)) <= U for v in range(n))\n",
    "m.addConstrs(gp.quicksum(x[u,v]*pop['total pop = 1829106'][u] for u in range(k)) >= L for v in range(n))\n",
    "\n",
    "#An edge is cut if county i and j are assigned to a different district\n",
    "m.addConstrs(x[i, v] - x[j, v] <= e[i, j] for (i, j) in G.edges() for v in range(n))\n",
    "\n",
    "#Any edge not in the G.edges is 0 (Likely unneeded)\n",
    "m.addConstrs(e[i, j] == 0 for i in range(k) for j in range(k) if (i, j) not in G.edges())\n",
    "\n",
    "#Optimize the Model\n",
    "m.optimize()\n"
   ]
  },
  {
   "cell_type": "code",
   "execution_count": 18,
   "id": "45e0c24b-7729-4c15-9262-b775bc9ce122",
   "metadata": {},
   "outputs": [
    {
     "name": "stdout",
     "output_type": "stream",
     "text": [
      "Counties assigned to District 0 : [1, 4, 6, 7, 9, 13, 14, 17, 23, 24, 31, 36, 37, 39, 42]\n",
      "Counties assigned to District 1 : [0, 2, 3, 5, 8, 10, 11, 12, 15, 16, 18, 19, 20, 21, 22, 25, 26, 27, 28, 29, 30, 32, 33, 34, 35, 38, 40, 41, 43]\n",
      "Optimal Cut Edges:  11.0\n"
     ]
    }
   ],
   "source": [
    "#Print solution\n",
    "for v in range(n):\n",
    "    assigned = [u for u in range(k) if x[u, v].x > 0.5] \n",
    "    print(f\"Counties assigned to District\", v, \":\", assigned)\n",
    "\n",
    "#Print the Objective Value\n",
    "print(\"Optimal Cut Edges: \", m.objval)"
   ]
  },
  {
   "cell_type": "code",
   "execution_count": null,
   "id": "c96dfec7-96ff-4dc8-9fb1-be0382e9bc9c",
   "metadata": {},
   "outputs": [],
   "source": []
  }
 ],
 "metadata": {
  "kernelspec": {
   "display_name": "Python 3 (ipykernel)",
   "language": "python",
   "name": "python3"
  },
  "language_info": {
   "codemirror_mode": {
    "name": "ipython",
    "version": 3
   },
   "file_extension": ".py",
   "mimetype": "text/x-python",
   "name": "python",
   "nbconvert_exporter": "python",
   "pygments_lexer": "ipython3",
   "version": "3.10.9"
  }
 },
 "nbformat": 4,
 "nbformat_minor": 5
}
